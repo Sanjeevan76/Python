{
  "nbformat": 4,
  "nbformat_minor": 0,
  "metadata": {
    "colab": {
      "provenance": [],
      "authorship_tag": "ABX9TyMA9gknVrxXc6+ZCSE+5jCX",
      "include_colab_link": true
    },
    "kernelspec": {
      "name": "python3",
      "display_name": "Python 3"
    },
    "language_info": {
      "name": "python"
    }
  },
  "cells": [
    {
      "cell_type": "markdown",
      "metadata": {
        "id": "view-in-github",
        "colab_type": "text"
      },
      "source": [
        "<a href=\"https://colab.research.google.com/github/Sanjeevan76/Python/blob/main/basic.ipynb\" target=\"_parent\"><img src=\"https://colab.research.google.com/assets/colab-badge.svg\" alt=\"Open In Colab\"/></a>"
      ]
    },
    {
      "cell_type": "code",
      "execution_count": null,
      "metadata": {
        "colab": {
          "base_uri": "https://localhost:8080/"
        },
        "id": "SijFEii96gLg",
        "outputId": "0c99feb2-60e6-428f-d362-f717a64abb7f"
      },
      "outputs": [
        {
          "output_type": "stream",
          "name": "stdout",
          "text": [
            "processor\t: 0\n",
            "vendor_id\t: AuthenticAMD\n",
            "cpu family\t: 23\n",
            "model\t\t: 49\n",
            "model name\t: AMD EPYC 7B12\n",
            "stepping\t: 0\n",
            "microcode\t: 0xffffffff\n",
            "cpu MHz\t\t: 2249.998\n",
            "cache size\t: 512 KB\n",
            "physical id\t: 0\n",
            "siblings\t: 2\n",
            "core id\t\t: 0\n",
            "cpu cores\t: 1\n",
            "apicid\t\t: 0\n",
            "initial apicid\t: 0\n",
            "fpu\t\t: yes\n",
            "fpu_exception\t: yes\n",
            "cpuid level\t: 13\n",
            "wp\t\t: yes\n",
            "flags\t\t: fpu vme de pse tsc msr pae mce cx8 apic sep mtrr pge mca cmov pat pse36 clflush mmx fxsr sse sse2 ht syscall nx mmxext fxsr_opt pdpe1gb rdtscp lm constant_tsc rep_good nopl nonstop_tsc cpuid extd_apicid tsc_known_freq pni pclmulqdq ssse3 fma cx16 sse4_1 sse4_2 x2apic movbe popcnt aes xsave avx f16c rdrand hypervisor lahf_lm cmp_legacy cr8_legacy abm sse4a misalignsse 3dnowprefetch osvw topoext ssbd ibrs ibpb stibp vmmcall fsgsbase tsc_adjust bmi1 avx2 smep bmi2 rdseed adx smap clflushopt clwb sha_ni xsaveopt xsavec xgetbv1 clzero xsaveerptr arat npt nrip_save umip rdpid\n",
            "bugs\t\t: sysret_ss_attrs null_seg spectre_v1 spectre_v2 spec_store_bypass retbleed smt_rsb srso ibpb_no_ret\n",
            "bogomips\t: 4499.99\n",
            "TLB size\t: 3072 4K pages\n",
            "clflush size\t: 64\n",
            "cache_alignment\t: 64\n",
            "address sizes\t: 48 bits physical, 48 bits virtual\n",
            "power management:\n",
            "\n",
            "processor\t: 1\n",
            "vendor_id\t: AuthenticAMD\n",
            "cpu family\t: 23\n",
            "model\t\t: 49\n",
            "model name\t: AMD EPYC 7B12\n",
            "stepping\t: 0\n",
            "microcode\t: 0xffffffff\n",
            "cpu MHz\t\t: 2249.998\n",
            "cache size\t: 512 KB\n",
            "physical id\t: 0\n",
            "siblings\t: 2\n",
            "core id\t\t: 0\n",
            "cpu cores\t: 1\n",
            "apicid\t\t: 1\n",
            "initial apicid\t: 1\n",
            "fpu\t\t: yes\n",
            "fpu_exception\t: yes\n",
            "cpuid level\t: 13\n",
            "wp\t\t: yes\n",
            "flags\t\t: fpu vme de pse tsc msr pae mce cx8 apic sep mtrr pge mca cmov pat pse36 clflush mmx fxsr sse sse2 ht syscall nx mmxext fxsr_opt pdpe1gb rdtscp lm constant_tsc rep_good nopl nonstop_tsc cpuid extd_apicid tsc_known_freq pni pclmulqdq ssse3 fma cx16 sse4_1 sse4_2 x2apic movbe popcnt aes xsave avx f16c rdrand hypervisor lahf_lm cmp_legacy cr8_legacy abm sse4a misalignsse 3dnowprefetch osvw topoext ssbd ibrs ibpb stibp vmmcall fsgsbase tsc_adjust bmi1 avx2 smep bmi2 rdseed adx smap clflushopt clwb sha_ni xsaveopt xsavec xgetbv1 clzero xsaveerptr arat npt nrip_save umip rdpid\n",
            "bugs\t\t: sysret_ss_attrs null_seg spectre_v1 spectre_v2 spec_store_bypass retbleed smt_rsb srso ibpb_no_ret\n",
            "bogomips\t: 4499.99\n",
            "TLB size\t: 3072 4K pages\n",
            "clflush size\t: 64\n",
            "cache_alignment\t: 64\n",
            "address sizes\t: 48 bits physical, 48 bits virtual\n",
            "power management:\n",
            "\n"
          ]
        }
      ],
      "source": [
        "!cat /proc/cpuinfo"
      ]
    },
    {
      "cell_type": "code",
      "source": [
        "!cat /proc/meminfo"
      ],
      "metadata": {
        "colab": {
          "base_uri": "https://localhost:8080/"
        },
        "id": "XOcOFbss7A2f",
        "outputId": "a403f7f8-6204-4558-a054-cf6c1e929bb3"
      },
      "execution_count": null,
      "outputs": [
        {
          "output_type": "stream",
          "name": "stdout",
          "text": [
            "MemTotal:       13289416 kB\n",
            "MemFree:         9063164 kB\n",
            "MemAvailable:   11950600 kB\n",
            "Buffers:          136724 kB\n",
            "Cached:          2946964 kB\n",
            "SwapCached:            0 kB\n",
            "Active:           465948 kB\n",
            "Inactive:        3493892 kB\n",
            "Active(anon):       2464 kB\n",
            "Inactive(anon):   878552 kB\n",
            "Active(file):     463484 kB\n",
            "Inactive(file):  2615340 kB\n",
            "Unevictable:           8 kB\n",
            "Mlocked:               8 kB\n",
            "SwapTotal:             0 kB\n",
            "SwapFree:              0 kB\n",
            "Dirty:               540 kB\n",
            "Writeback:             0 kB\n",
            "AnonPages:        876176 kB\n",
            "Mapped:           456588 kB\n",
            "Shmem:              4856 kB\n",
            "KReclaimable:      99420 kB\n",
            "Slab:             136376 kB\n",
            "SReclaimable:      99420 kB\n",
            "SUnreclaim:        36956 kB\n",
            "KernelStack:        5408 kB\n",
            "PageTables:        13340 kB\n",
            "SecPageTables:         0 kB\n",
            "NFS_Unstable:          0 kB\n",
            "Bounce:                0 kB\n",
            "WritebackTmp:          0 kB\n",
            "CommitLimit:     6644708 kB\n",
            "Committed_AS:    2886124 kB\n",
            "VmallocTotal:   34359738367 kB\n",
            "VmallocUsed:       12036 kB\n",
            "VmallocChunk:          0 kB\n",
            "Percpu:             1072 kB\n",
            "HardwareCorrupted:     0 kB\n",
            "AnonHugePages:         0 kB\n",
            "ShmemHugePages:        0 kB\n",
            "ShmemPmdMapped:        0 kB\n",
            "FileHugePages:         0 kB\n",
            "FilePmdMapped:         0 kB\n",
            "CmaTotal:              0 kB\n",
            "CmaFree:               0 kB\n",
            "Unaccepted:            0 kB\n",
            "HugePages_Total:       0\n",
            "HugePages_Free:        0\n",
            "HugePages_Rsvd:        0\n",
            "HugePages_Surp:        0\n",
            "Hugepagesize:       2048 kB\n",
            "Hugetlb:               0 kB\n",
            "DirectMap4k:       66352 kB\n",
            "DirectMap2M:     5173248 kB\n",
            "DirectMap1G:    10485760 kB\n"
          ]
        }
      ]
    },
    {
      "cell_type": "markdown",
      "source": [
        "package install"
      ],
      "metadata": {
        "id": "vcryqG_LFjaD"
      }
    },
    {
      "cell_type": "code",
      "source": [
        "!pip install pandas"
      ],
      "metadata": {
        "colab": {
          "base_uri": "https://localhost:8080/"
        },
        "id": "p7Xc2EDe7O1g",
        "outputId": "6cfd47b7-b4b6-4b20-b7a2-841fb0d51437"
      },
      "execution_count": null,
      "outputs": [
        {
          "output_type": "stream",
          "name": "stdout",
          "text": [
            "Requirement already satisfied: pandas in /usr/local/lib/python3.11/dist-packages (2.2.2)\n",
            "Requirement already satisfied: numpy>=1.23.2 in /usr/local/lib/python3.11/dist-packages (from pandas) (2.0.2)\n",
            "Requirement already satisfied: python-dateutil>=2.8.2 in /usr/local/lib/python3.11/dist-packages (from pandas) (2.9.0.post0)\n",
            "Requirement already satisfied: pytz>=2020.1 in /usr/local/lib/python3.11/dist-packages (from pandas) (2025.2)\n",
            "Requirement already satisfied: tzdata>=2022.7 in /usr/local/lib/python3.11/dist-packages (from pandas) (2025.2)\n",
            "Requirement already satisfied: six>=1.5 in /usr/local/lib/python3.11/dist-packages (from python-dateutil>=2.8.2->pandas) (1.17.0)\n"
          ]
        }
      ]
    },
    {
      "cell_type": "code",
      "source": [
        "!ls\n"
      ],
      "metadata": {
        "colab": {
          "base_uri": "https://localhost:8080/"
        },
        "id": "9roQQkY9MLzO",
        "outputId": "c94c6ee7-a4fb-4c00-ed26-2225052c7fa0"
      },
      "execution_count": null,
      "outputs": [
        {
          "output_type": "stream",
          "name": "stdout",
          "text": [
            "sample_data\n"
          ]
        }
      ]
    },
    {
      "cell_type": "markdown",
      "source": [
        "#python\n"
      ],
      "metadata": {
        "id": "R1LEAX2rfQjh"
      }
    },
    {
      "cell_type": "markdown",
      "source": [
        "#basic datatype\n",
        "\n",
        "1.int\n",
        "2.float\n",
        "3.str"
      ],
      "metadata": {
        "id": "fNmyt-KzgNYv"
      }
    },
    {
      "cell_type": "code",
      "source": [
        "type(3)"
      ],
      "metadata": {
        "colab": {
          "base_uri": "https://localhost:8080/"
        },
        "id": "iDYvoqg4gQye",
        "outputId": "5100052d-2180-4384-e22b-2fc936cf0a48"
      },
      "execution_count": null,
      "outputs": [
        {
          "output_type": "execute_result",
          "data": {
            "text/plain": [
              "int"
            ]
          },
          "metadata": {},
          "execution_count": 25
        }
      ]
    },
    {
      "cell_type": "code",
      "source": [
        "type(5.5)"
      ],
      "metadata": {
        "colab": {
          "base_uri": "https://localhost:8080/"
        },
        "id": "wKtsT2_bggEi",
        "outputId": "6ba694b5-39de-4cd1-fa91-25c555197a20"
      },
      "execution_count": null,
      "outputs": [
        {
          "output_type": "execute_result",
          "data": {
            "text/plain": [
              "float"
            ]
          },
          "metadata": {},
          "execution_count": 26
        }
      ]
    },
    {
      "cell_type": "code",
      "source": [
        "type(\"string\")"
      ],
      "metadata": {
        "colab": {
          "base_uri": "https://localhost:8080/"
        },
        "id": "P_FB4Ivagil_",
        "outputId": "5d90661d-2098-4482-fba2-1117070943a3"
      },
      "execution_count": null,
      "outputs": [
        {
          "output_type": "execute_result",
          "data": {
            "text/plain": [
              "str"
            ]
          },
          "metadata": {},
          "execution_count": 27
        }
      ]
    },
    {
      "cell_type": "markdown",
      "source": [
        "#contant and variable"
      ],
      "metadata": {
        "id": "9rPYSAdokOuF"
      }
    },
    {
      "cell_type": "code",
      "source": [
        "superhero=\"ironman\"\n",
        "print(superhero)"
      ],
      "metadata": {
        "colab": {
          "base_uri": "https://localhost:8080/"
        },
        "id": "RuzHho7Qgk2I",
        "outputId": "1084c91e-fa98-4cf6-fbcf-5791da234023"
      },
      "execution_count": null,
      "outputs": [
        {
          "output_type": "stream",
          "name": "stdout",
          "text": [
            "ironman\n"
          ]
        }
      ]
    },
    {
      "cell_type": "code",
      "source": [
        "hero1,hero2,hero3=\"ironman\",\"shakti man\",\"king\"\n",
        "print(hero1)\n",
        "print(hero2)\n",
        "print(hero3)"
      ],
      "metadata": {
        "colab": {
          "base_uri": "https://localhost:8080/"
        },
        "id": "PP9GBM8LlSpS",
        "outputId": "d85fd6ca-b360-4bb4-9cbf-d64647c0ebb7"
      },
      "execution_count": null,
      "outputs": [
        {
          "output_type": "stream",
          "name": "stdout",
          "text": [
            "ironman\n",
            "shakti man\n",
            "king\n"
          ]
        }
      ]
    },
    {
      "cell_type": "code",
      "source": [
        "x=y=z=20\n",
        "print(x)\n",
        "print(y)\n",
        "print(z)"
      ],
      "metadata": {
        "colab": {
          "base_uri": "https://localhost:8080/"
        },
        "id": "vQK5N46Mlnth",
        "outputId": "60341ed4-f88b-47ce-e124-3d8a59c6e9df"
      },
      "execution_count": null,
      "outputs": [
        {
          "output_type": "stream",
          "name": "stdout",
          "text": [
            "20\n",
            "20\n",
            "20\n"
          ]
        }
      ]
    },
    {
      "cell_type": "code",
      "source": [
        "#input functio"
      ],
      "metadata": {
        "id": "vuuq-L4GnLam"
      },
      "execution_count": null,
      "outputs": []
    },
    {
      "cell_type": "code",
      "source": [
        "number1=input(\"enter first number\")\n",
        "number2=input(\"enter second number\") #input function given string type\n",
        "sum=number1+number2\n",
        "print(sum) # so sum=22 (if number1=2 and number2=2)"
      ],
      "metadata": {
        "id": "vOpFDVNzoLrz"
      },
      "execution_count": null,
      "outputs": []
    },
    {
      "cell_type": "code",
      "source": [
        "number1=int(input(\"enter first number\"))\n",
        "number2=int(input(\"enter second number\")) # you can also make it float\n",
        "sum=number1+number2\n",
        "print(sum)"
      ],
      "metadata": {
        "id": "KP2g6YfRoaeI"
      },
      "execution_count": null,
      "outputs": []
    },
    {
      "cell_type": "markdown",
      "source": [
        "#changing data type\n"
      ],
      "metadata": {
        "id": "JuwYFBzwqHjY"
      }
    },
    {
      "cell_type": "code",
      "source": [
        "num=4\n",
        "type(num)\n",
        "print(float(num)) # num is intially int but after applying float it convert into float value"
      ],
      "metadata": {
        "id": "-Qm5P9kEpOi8"
      },
      "execution_count": null,
      "outputs": []
    },
    {
      "cell_type": "markdown",
      "source": [
        "#Basic Data Type\n",
        "1.integer\n",
        "2.floating point\n",
        "3.complex\n",
        "4.boolean\n",
        "5.string"
      ],
      "metadata": {
        "id": "sJQTQoxC2Hg3"
      }
    },
    {
      "cell_type": "code",
      "source": [
        "a=8\n",
        "print(a)"
      ],
      "metadata": {
        "id": "DQ89CvRTqO17"
      },
      "execution_count": null,
      "outputs": []
    },
    {
      "cell_type": "code",
      "source": [
        "b=9.4\n",
        "type(b)"
      ],
      "metadata": {
        "id": "rByywo4r2aX8"
      },
      "execution_count": null,
      "outputs": []
    },
    {
      "cell_type": "code",
      "source": [
        "c=1+3j\n",
        "type(c)"
      ],
      "metadata": {
        "id": "u6Bvpck54N8-"
      },
      "execution_count": null,
      "outputs": []
    },
    {
      "cell_type": "markdown",
      "source": [
        "#sring\n"
      ],
      "metadata": {
        "id": "x1KYgmui_24W"
      }
    },
    {
      "cell_type": "code",
      "source": [
        "name=\"sanjeeva\"\n",
        "print(name)\n",
        "type(name)"
      ],
      "metadata": {
        "id": "dEM2KKnx8RaL"
      },
      "execution_count": null,
      "outputs": []
    },
    {
      "cell_type": "code",
      "source": [
        "print(\"hell0\"*5)"
      ],
      "metadata": {
        "id": "iuCYtV4d_sFX"
      },
      "execution_count": null,
      "outputs": []
    },
    {
      "cell_type": "markdown",
      "source": [
        "#BOOLEAN"
      ],
      "metadata": {
        "id": "kzlbfzui_6Rw"
      }
    },
    {
      "cell_type": "code",
      "source": [
        "a=7>2\n",
        "print(a)\n",
        "type(a)"
      ],
      "metadata": {
        "id": "vCV6BhOO_xa_"
      },
      "execution_count": null,
      "outputs": []
    },
    {
      "cell_type": "markdown",
      "source": [
        "#slice"
      ],
      "metadata": {
        "id": "rF4YcXE6DHtP"
      }
    },
    {
      "cell_type": "code",
      "source": [
        "my_string=\"knowledge\""
      ],
      "metadata": {
        "id": "sYmD13_9AAR-"
      },
      "execution_count": null,
      "outputs": []
    },
    {
      "cell_type": "code",
      "source": [
        "print(my_string[0:3]) #slice and only print from 0 to 2nd index"
      ],
      "metadata": {
        "id": "VaCg2583DPdS"
      },
      "execution_count": null,
      "outputs": []
    },
    {
      "cell_type": "code",
      "source": [
        "print(my_string[0:10:2]) # in this print 0 to 9 and every 2nd char will reomove"
      ],
      "metadata": {
        "id": "xbXDjwn4DY78"
      },
      "execution_count": null,
      "outputs": []
    },
    {
      "cell_type": "markdown",
      "source": [
        "#concatinate\n"
      ],
      "metadata": {
        "id": "wxpsX_MMEbSw"
      }
    },
    {
      "cell_type": "code",
      "source": [
        "str1=\"sanjeevan\"\n",
        "str2=\"kumar\"\n",
        "print(str1+\" \"+str2)"
      ],
      "metadata": {
        "id": "UERd0Nb2Dw4U"
      },
      "execution_count": null,
      "outputs": []
    },
    {
      "cell_type": "markdown",
      "source": [
        "#List"
      ],
      "metadata": {
        "id": "6Ypz4MU0HqYs"
      }
    },
    {
      "cell_type": "code",
      "source": [
        "my_List=[2,3,4,5] # list shoud be in square bracket\n",
        "print(my_List)\n"
      ],
      "metadata": {
        "id": "k2n2wsC8EkYO",
        "colab": {
          "base_uri": "https://localhost:8080/"
        },
        "outputId": "82fe4100-8017-4005-e386-5cb1b5c9a524"
      },
      "execution_count": 1,
      "outputs": [
        {
          "output_type": "stream",
          "name": "stdout",
          "text": [
            "[2, 3, 4, 5]\n"
          ]
        }
      ]
    },
    {
      "cell_type": "code",
      "source": [
        "#list shoud contain multiple data type like int string\n",
        "my_list2=[1,2,3,\"sam\"]\n",
        "print(my_list2)"
      ],
      "metadata": {
        "id": "3jWySRpzHyUP",
        "colab": {
          "base_uri": "https://localhost:8080/"
        },
        "outputId": "951da7c7-305b-4372-9b0e-7b34987ed47c"
      },
      "execution_count": 2,
      "outputs": [
        {
          "output_type": "stream",
          "name": "stdout",
          "text": [
            "[1, 2, 3, 'sam']\n"
          ]
        }
      ]
    },
    {
      "cell_type": "code",
      "source": [
        "#we can add remove elemnt from list\n",
        "my_list2=[1,2,3,\"sam\"]\n",
        "my_list2.append(\"sanjeevan\")\n",
        "print(my_list2)\n",
        "del my_list2[2]\n",
        "print(\"after delete\")\n",
        "print(my_list2)"
      ],
      "metadata": {
        "colab": {
          "base_uri": "https://localhost:8080/"
        },
        "id": "n4dU6qDWI2Ac",
        "outputId": "83183bb5-0009-4251-e16b-cce15c052276"
      },
      "execution_count": 11,
      "outputs": [
        {
          "output_type": "stream",
          "name": "stdout",
          "text": [
            "[1, 2, 3, 'sam', 'sanjeevan']\n",
            "after delete\n",
            "[1, 2, 'sam', 'sanjeevan']\n"
          ]
        }
      ]
    },
    {
      "cell_type": "code",
      "source": [
        "# List also contain duplicate items\n",
        "my_list3=[1,2,3,4,5,2,4]\n",
        "print(my_list3)"
      ],
      "metadata": {
        "colab": {
          "base_uri": "https://localhost:8080/"
        },
        "id": "nRcYD4omJfGQ",
        "outputId": "530ecab7-4043-4f79-f80f-734b00ea38bb"
      },
      "execution_count": 1,
      "outputs": [
        {
          "output_type": "stream",
          "name": "stdout",
          "text": [
            "[1, 2, 3, 4, 5, 2, 4]\n"
          ]
        }
      ]
    },
    {
      "cell_type": "code",
      "source": [
        "list_4=[1,2,3,4,5] #list can be added\n",
        "list_5=[2,3,4,5]\n",
        "print(list_4+list_5)"
      ],
      "metadata": {
        "colab": {
          "base_uri": "https://localhost:8080/"
        },
        "id": "aVU0Gu3DrHy9",
        "outputId": "c4821109-a741-46e2-c8e0-f42bd3d9c56f"
      },
      "execution_count": 3,
      "outputs": [
        {
          "output_type": "stream",
          "name": "stdout",
          "text": [
            "[1, 2, 3, 4, 5, 2, 3, 4, 5]\n"
          ]
        }
      ]
    },
    {
      "cell_type": "markdown",
      "source": [
        "#Tuple"
      ],
      "metadata": {
        "id": "QPJ8IuDlrj0Y"
      }
    },
    {
      "cell_type": "code",
      "source": [
        "my_tuple=(2,3,4)\n",
        "print(my_tuple)"
      ],
      "metadata": {
        "colab": {
          "base_uri": "https://localhost:8080/"
        },
        "id": "VifRMNKwrZl5",
        "outputId": "27af0dd7-ca72-400d-f396-a01a9be5f849"
      },
      "execution_count": 4,
      "outputs": [
        {
          "output_type": "stream",
          "name": "stdout",
          "text": [
            "(2, 3, 4)\n"
          ]
        }
      ]
    },
    {
      "cell_type": "code",
      "source": [
        "#tuple allow multiple data type\n",
        "my_tuple2=(1,2,3,\"sam\")\n",
        "print(my_tuple)"
      ],
      "metadata": {
        "colab": {
          "base_uri": "https://localhost:8080/"
        },
        "id": "yDe3IOHP_FJN",
        "outputId": "86891f2e-321f-40c2-990c-1afb6350bc9f"
      },
      "execution_count": 5,
      "outputs": [
        {
          "output_type": "stream",
          "name": "stdout",
          "text": [
            "(2, 3, 4)\n"
          ]
        }
      ]
    },
    {
      "cell_type": "code",
      "source": [
        "#converting a tuple into list\n",
        "my_tuple=(1,2,3,4)\n",
        "my_list=list(my_tuple)\n",
        "print(my_list)"
      ],
      "metadata": {
        "colab": {
          "base_uri": "https://localhost:8080/"
        },
        "id": "8cNte29u_S3V",
        "outputId": "82b88c5f-1a97-43d9-93c8-d10a415c9006"
      },
      "execution_count": 8,
      "outputs": [
        {
          "output_type": "stream",
          "name": "stdout",
          "text": [
            "[1, 2, 3, 4]\n"
          ]
        }
      ]
    },
    {
      "cell_type": "code",
      "source": [
        "#topules are immutable (unchangeble) we cant change like add value\n",
        "#we can find length of tuple like len(tuple)"
      ],
      "metadata": {
        "id": "b3Rd1-NW_n8q"
      },
      "execution_count": 12,
      "outputs": []
    },
    {
      "cell_type": "markdown",
      "source": [
        "#set declear in curly bracket  "
      ],
      "metadata": {
        "id": "DVdy-yHWBJF6"
      }
    },
    {
      "cell_type": "code",
      "source": [
        "my_set={1,2,3}\n",
        "print(my_set) #we cant acces the element of set by indexing like my_set[2]\n"
      ],
      "metadata": {
        "colab": {
          "base_uri": "https://localhost:8080/"
        },
        "id": "ULwkEjypBIMb",
        "outputId": "23a686cb-23f5-4241-bbec-48cb09b13298"
      },
      "execution_count": 13,
      "outputs": [
        {
          "output_type": "stream",
          "name": "stdout",
          "text": [
            "{1, 2, 3}\n"
          ]
        }
      ]
    },
    {
      "cell_type": "code",
      "source": [
        "#convert a list into set\n",
        "my_list=[1,2,3,4]\n",
        "my_set=set(my_list)\n",
        "print(my_set)"
      ],
      "metadata": {
        "colab": {
          "base_uri": "https://localhost:8080/"
        },
        "id": "jktj1DXlL3Pc",
        "outputId": "05aa1662-34f7-4275-a036-feb4198934b9"
      },
      "execution_count": 14,
      "outputs": [
        {
          "output_type": "stream",
          "name": "stdout",
          "text": [
            "{1, 2, 3, 4}\n"
          ]
        }
      ]
    },
    {
      "cell_type": "code",
      "source": [
        "#set doesnt allow duplicate value\n",
        "my_set3={1,2,3,4,3,4,2}\n",
        "print(my_set3)"
      ],
      "metadata": {
        "colab": {
          "base_uri": "https://localhost:8080/"
        },
        "id": "-iFRalpcMgfk",
        "outputId": "4dc6bdcc-8887-4a27-f05f-bbf2efccef00"
      },
      "execution_count": 15,
      "outputs": [
        {
          "output_type": "stream",
          "name": "stdout",
          "text": [
            "{1, 2, 3, 4}\n"
          ]
        }
      ]
    },
    {
      "cell_type": "markdown",
      "source": [
        "#DICTIONARY\n",
        "key-value pair"
      ],
      "metadata": {
        "id": "0vZGEtPnMwuK"
      }
    },
    {
      "cell_type": "markdown",
      "source": [],
      "metadata": {
        "id": "yUgSbkoxMv1e"
      }
    },
    {
      "cell_type": "code",
      "source": [
        "my_dictionar={'sam':1,\"raj\":3,\"sanjeevan\":\"kumar\"}\n",
        "print(my_dictionar)\n"
      ],
      "metadata": {
        "colab": {
          "base_uri": "https://localhost:8080/"
        },
        "id": "t4RquMVeMsjp",
        "outputId": "6d33e2a4-59ff-459a-fab0-eea7f9f2d3c7"
      },
      "execution_count": 16,
      "outputs": [
        {
          "output_type": "stream",
          "name": "stdout",
          "text": [
            "{'sam': 1, 'raj': 3, 'sanjeevan': 'kumar'}\n"
          ]
        }
      ]
    },
    {
      "cell_type": "code",
      "source": [
        "print(my_dictionar['sam'])\n",
        "print(my_dictionar['sanjeevan'])"
      ],
      "metadata": {
        "colab": {
          "base_uri": "https://localhost:8080/"
        },
        "id": "jc2qN4QLNMml",
        "outputId": "8a92775a-23ae-4753-fbc1-ed48fa06c025"
      },
      "execution_count": 20,
      "outputs": [
        {
          "output_type": "stream",
          "name": "stdout",
          "text": [
            "1\n",
            "kumar\n"
          ]
        }
      ]
    },
    {
      "cell_type": "code",
      "source": [
        "#dictionary does not allow duplicate value"
      ],
      "metadata": {
        "id": "nT90Ow9BP80G"
      },
      "execution_count": null,
      "outputs": []
    }
  ]
}